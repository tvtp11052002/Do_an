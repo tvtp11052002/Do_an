{
  "nbformat": 4,
  "nbformat_minor": 0,
  "metadata": {
    "colab": {
      "name": "Untitled8.ipynb",
      "provenance": [],
      "authorship_tag": "ABX9TyMMzAIZY8Iw3YK9xdjh6kag",
      "include_colab_link": true
    },
    "kernelspec": {
      "name": "python3",
      "display_name": "Python 3"
    },
    "language_info": {
      "name": "python"
    }
  },
  "cells": [
    {
      "cell_type": "markdown",
      "metadata": {
        "id": "view-in-github",
        "colab_type": "text"
      },
      "source": [
        "<a href=\"https://colab.research.google.com/github/tvtp11052002/Do_an/blob/main/taomaungaunhien.ipynb\" target=\"_parent\"><img src=\"https://colab.research.google.com/assets/colab-badge.svg\" alt=\"Open In Colab\"/></a>"
      ]
    },
    {
      "cell_type": "code",
      "metadata": {
        "id": "VLvsnqWY_JV2"
      },
      "source": [
        "import pandas as pd\n",
        "import csv\n",
        "import random\n",
        "\n",
        "file = pd.read_csv('C:\\\\Users\\\\DUC-PC\\\\Downloads\\\\DSSV.csv')\n",
        "print(file.head(10))\n",
        "print(\"-\"*50)\n",
        "#Chọn ngẫu nhiên 7 sv trong ds\n",
        "files = file.sample(n=7)\n",
        "#Lưu vào file csv mới tên DSSVmoi.csv\n",
        "files.to_csv(r'C:\\\\Users\\\\DUC-PC\\\\Downloads\\\\DSSVmoi.csv', index = None, header=True)\n",
        "print(files)"
      ],
      "execution_count": null,
      "outputs": []
    }
  ]
}