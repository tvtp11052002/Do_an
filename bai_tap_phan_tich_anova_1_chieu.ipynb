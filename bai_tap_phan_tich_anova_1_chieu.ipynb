{
  "nbformat": 4,
  "nbformat_minor": 0,
  "metadata": {
    "colab": {
      "name": "bai_tap_phan_tich_anova_1_chieu.ipynb",
      "provenance": [],
      "collapsed_sections": [],
      "include_colab_link": true
    },
    "kernelspec": {
      "display_name": "Python 3",
      "language": "python",
      "name": "python3"
    },
    "language_info": {
      "codemirror_mode": {
        "name": "ipython",
        "version": 3
      },
      "file_extension": ".py",
      "mimetype": "text/x-python",
      "name": "python",
      "nbconvert_exporter": "python",
      "pygments_lexer": "ipython3",
      "version": "3.8.3"
    }
  },
  "cells": [
    {
      "cell_type": "markdown",
      "metadata": {
        "id": "view-in-github",
        "colab_type": "text"
      },
      "source": [
        "<a href=\"https://colab.research.google.com/github/tvtp11052002/Do_an/blob/main/bai_tap_phan_tich_anova_1_chieu.ipynb\" target=\"_parent\"><img src=\"https://colab.research.google.com/assets/colab-badge.svg\" alt=\"Open In Colab\"/></a>"
      ]
    },
    {
      "cell_type": "markdown",
      "metadata": {
        "id": "bH3nVbnGTJHu"
      },
      "source": [
        "Hãy sử dụng các tập dữ liệu sau và tiến hành phân tích ANOVA 1 chiều\n",
        "\n",
        "- [Excavation Depth and Archaeology](https://college.cengage.com/mathematics/brase/understandable_statistics/7e/students/datasets/owan/frames/owan01.html)\n",
        "- [Apple Orchard Experiment](https://college.cengage.com/mathematics/brase/understandable_statistics/7e/students/datasets/owan/frames/owan02.html)\n",
        "- [Red Dye Number 40](https://college.cengage.com/mathematics/brase/understandable_statistics/7e/students/datasets/owan/frames/owan03.html)\n",
        "- [Business Startup Costs](https://college.cengage.com/mathematics/brase/understandable_statistics/7e/students/datasets/owan/frames/owan04.html)\n",
        "- [Weights of Football Players](https://college.cengage.com/mathematics/brase/understandable_statistics/7e/students/datasets/owan/frames/owan05.html)"
      ]
    },
    {
      "cell_type": "code",
      "metadata": {
        "id": "aBC6fd1xPgif"
      },
      "source": [
        "#import thư viện\n",
        "import numpy as np\n",
        "import pandas as pd\n",
        "from scipy import stats\n",
        "import xlrd"
      ],
      "execution_count": null,
      "outputs": []
    },
    {
      "cell_type": "code",
      "metadata": {
        "id": "_wspYrkWPgig"
      },
      "source": [
        "#Hàm kiểm tra tính phân phối chuẩn dùng Kolmogorov từ X1-X4\n",
        "def Kolmogorov(data):\n",
        "    print(\"Kiểm định Kolmogorov -\", data.name)\n",
        "    k, p = stats.kstest(rvs=data, cdf='norm', args=(np.mean(data), np.std(data)))\n",
        "    if p > 0.05:\n",
        "        print('''Chưa có bằng chứng thống kê để bác bỏ giả thuyết H0.\n",
        "        Điều này ngụ ý rằng các mẫu hiện tại tuân theo luật phân phối chuẩn''')\n",
        "    else:\n",
        "        print('''Có bằng chứng thống kê để bác bỏ giả thuyết H0.\n",
        "        Điều này ngụ ý rằng các mẫu hiện tại không tuân theo luật phân phối chuẩn''')\n",
        "    print(\"------------------------------\")\n",
        "    \n",
        "#Dùng Shapiro từ X1-X5\n",
        "def Shapiro(data):\n",
        "    print(\"Kiểm định Shapiro -\", data.name)\n",
        "    stat, pvalue = stats.shapiro(data)\n",
        "    if pvalue > 0.05:\n",
        "        print('''Chưa có bằng chứng thống kê để bác bỏ giả thuyết H0.\n",
        "        Điều này ngụ ý rằng các mẫu hiện tại tuân theo luật phân phối chuẩn''')\n",
        "    else:\n",
        "        print('''Có bằng chứng thống kê để bác bỏ giả thuyết H0.\n",
        "        Điều này ngụ ý rằng các mẫu hiện tại không tuân theo luật phân phối chuẩn''')\n",
        "    print(\"------------------------------\")"
      ],
      "execution_count": null,
      "outputs": []
    },
    {
      "cell_type": "code",
      "metadata": {
        "id": "DBEKUyHrPgig"
      },
      "source": [
        "#Hàm kiểm tra tính đồng nhất về phương sai dùng Bartlett từ X1-X4\n",
        "def bartlett(a, b, c, d): \n",
        "    print(\"~~~~~~~~~~~~~~~~~~~~~~~~~~~~~~~\")\n",
        "    print(\"Kiểm định Bartlett:\")\n",
        "    stat, pvalue = stats.bartlett(a, b, c, d)\n",
        "    print(\"Statistic =\", stat, \"\\n\",\n",
        "          \"p value =\", pvalue)\n",
        "    if pvalue > 0.05:\n",
        "        print('''Chưa có bằng chứng thống kê để bác bỏ giả thuyết H0. \n",
        "        Điều này ngụ ý các mẫu hiện tại mang tính đồng nhất về phương sai''')\n",
        "    else:\n",
        "        print('''Có bằng chứng thống kê để bác bỏ giả thuyết H0. \n",
        "         Điều này ngụ ý mẫu hiện tại không đồng nhất về phương sai''')\n",
        "    print(\"~~~~~~~~~~~~~~~~~~~~~~~~~~~~~~~\")\n",
        "\n",
        "    \n",
        "#Dùng Levene từ X1-X5\n",
        "def levene(a, b, c, d, e):\n",
        "    print(\"~~~~~~~~~~~~~~~~~~~~~~~~~~~~~~~\")\n",
        "    print(\"Kiểm định Levene:\")\n",
        "    stat, pvalue = stats.levene(a, b, c, d, e)\n",
        "    if pvalue > 0.05:\n",
        "        print('''Chưa có bằng chứng thống kê để bác bỏ giả thuyết H0.\n",
        "        Điều này ngụ ý các mẫu hiện tại mang tính đồng nhất về phương sai''')\n",
        "    else:\n",
        "        print('''Có bằng chứng thống kê để bác bỏ giả thuyết H0. \n",
        "        Điều này ngụ ý mẫu hiện tại không đồng nhất về phương sai''')\n",
        "    print(\"~~~~~~~~~~~~~~~~~~~~~~~~~~~~~~~\")"
      ],
      "execution_count": null,
      "outputs": []
    },
    {
      "cell_type": "code",
      "metadata": {
        "id": "8FeQaNppPgih",
        "outputId": "3fae0cac-ac80-40dd-ad19-326dcb0db5ba"
      },
      "source": [
        "#Hàm kiểm định ANOVA từ X1-X4\n",
        "def anova14(a, b, c, d):\n",
        "    df = (a, b, c, d)\n",
        "    print(\"Kiểm định ANOVA:\")\n",
        "    stat, pvalue = stats.f_oneway(a, b, c, d)\n",
        "    print(\"Stat =\", stat, \"\\n\", \"p value =\", pvalue)\n",
        "    if pvalue < 0.05:\n",
        "        print(\"Có bằng chứng thống kê để bác bỏ giả thuyết H0\")\n",
        "    else:\n",
        "        print(\"Chưa có bằng chứng thống kê để bác bỏ giả thuyết H0\")\n",
        "        \n",
        "#Hàm kiểm định ANOVA từ X1-X5\n",
        "def anova15(a, b, c, d, e):\n",
        "    df = (a, b, c, d, e)\n",
        "    print(\"Kiểm định ANOVA:\")\n",
        "    stat, pvalue = stats.f_oneway(a, b, c, d, e)\n",
        "    print(\"Stat =\", stat, \"\\n\", \"p value =\", pvalue)\n",
        "    if pvalue < 0.05:\n",
        "        print(\"Có bằng chứng thống kê để bác bỏ giả thuyết H0\")\n",
        "    else:\n",
        "        print(\"Chưa có bằng chứng thống kê để bác bỏ giả thuyết H0\")"
      ],
      "execution_count": null,
      "outputs": [
        {
          "output_type": "stream",
          "text": [
            "ERROR! Session/line number was not unique in database. History logging moved to new session 137\n"
          ],
          "name": "stdout"
        }
      ]
    },
    {
      "cell_type": "markdown",
      "metadata": {
        "id": "puk4c2YqTJIJ"
      },
      "source": [
        "Câu 1: Excavation Depth and Archaeology\n",
        "\n",
        "Four different excavation sites at an archeological area in New Mexico gave the following depths (cm) for significant archaeological discoveries.\n",
        "- X1 = depths at Site I\n",
        "- X2 = depths at Site II\n",
        "- X3 = depths at Site III\n",
        "- X4 = depths at Site IV\n",
        "\n",
        "Reference: Mimbres Mogollon Archaeology by Woosley and McIntyre, Univ. of New\n",
        "Mexico Press\n",
        "- Xây dựng giả thuyết:\n",
        "H0:μ1=μ2=μ3=μ4 \n",
        "\n",
        "- Giả thuyết thay thế:\n",
        "Ha: Có ít nhất một cặp có giá trị không bằng nhau"
      ]
    },
    {
      "cell_type": "code",
      "metadata": {
        "id": "0uTwXOqBPgik",
        "outputId": "f5dce05d-0726-4485-850a-2369243d352c"
      },
      "source": [
        "df1 = pd.read_excel(\"C:\\\\Pong\\\\owan01.xls\")\n",
        "print(df1.head())\n",
        "x1_1 = df1['X1']\n",
        "x1_2 = df1['X2']\n",
        "x1_3 = df1['X3']\n",
        "x1_4 = df1['X4']\n",
        "\n",
        "#kiểm tra tính phân phối chuẩn\n",
        "print(Kolmogorov(x1_1))\n",
        "print(Kolmogorov(x1_2))\n",
        "print(Kolmogorov(x1_3))\n",
        "print(Kolmogorov(x1_4))\n",
        "\n",
        "#kiểm tra tính đồng nhất về phương sai\n",
        "print(bartlett(x1_1, x1_2, x1_3, x1_4))\n",
        "\n",
        "#kiểm định ANOVA\n",
        "\n",
        "print(anova14(x1_1, x1_2, x1_3, x1_4))\n"
      ],
      "execution_count": null,
      "outputs": [
        {
          "output_type": "stream",
          "text": [
            "*** No CODEPAGE record, no encoding_override: will use 'ascii'\n",
            "    X1    X2     X3    X4\n",
            "0   93  85.0  100.0  96.0\n",
            "1  120  45.0   75.0  58.0\n",
            "2   65  80.0   65.0  95.0\n",
            "3  105  28.0   40.0  90.0\n",
            "4  115  75.0   73.0  65.0\n",
            "Kiểm định Kolmogorov - X1\n",
            "Chưa có bằng chứng thống kê để bác bỏ giả thuyết H0.\n",
            "        Điều này ngụ ý rằng các mẫu hiện tại tuân theo luật phân phối chuẩn\n",
            "------------------------------\n",
            "None\n",
            "Kiểm định Kolmogorov - X2\n",
            "Có bằng chứng thống kê để bác bỏ giả thuyết H0.\n",
            "        Điều này ngụ ý rằng các mẫu hiện tại không tuân theo luật phân phối chuẩn\n",
            "------------------------------\n",
            "None\n",
            "Kiểm định Kolmogorov - X3\n",
            "Có bằng chứng thống kê để bác bỏ giả thuyết H0.\n",
            "        Điều này ngụ ý rằng các mẫu hiện tại không tuân theo luật phân phối chuẩn\n",
            "------------------------------\n",
            "None\n",
            "Kiểm định Kolmogorov - X4\n",
            "Có bằng chứng thống kê để bác bỏ giả thuyết H0.\n",
            "        Điều này ngụ ý rằng các mẫu hiện tại không tuân theo luật phân phối chuẩn\n",
            "------------------------------\n",
            "None\n",
            "~~~~~~~~~~~~~~~~~~~~~~~~~~~~~~~\n",
            "Kiểm định Bartlett:\n",
            "Statistic = 2.440153553631599 \n",
            " p value = 0.48620382137845997\n",
            "Chưa có bằng chứng thống kê để bác bỏ giả thuyết H0. \n",
            "        Điều này ngụ ý các mẫu hiện tại mang tính đồng nhất về phương sai\n",
            "~~~~~~~~~~~~~~~~~~~~~~~~~~~~~~~\n",
            "None\n",
            "Kiểm định ANOVA:\n",
            "Stat = nan \n",
            " p value = nan\n",
            "Chưa có bằng chứng thống kê để bác bỏ giả thuyết H0\n",
            "None\n"
          ],
          "name": "stdout"
        },
        {
          "output_type": "stream",
          "text": [
            "C:\\Users\\DUC-PC\\anaconda3\\lib\\site-packages\\scipy\\stats\\_distn_infrastructure.py:1847: RuntimeWarning: invalid value encountered in greater_equal\n",
            "  cond2 = (x >= np.asarray(_b)) & cond0\n",
            "C:\\Users\\DUC-PC\\anaconda3\\lib\\site-packages\\scipy\\stats\\_distn_infrastructure.py:1932: RuntimeWarning: invalid value encountered in less_equal\n",
            "  cond2 = cond0 & (x <= _a)\n"
          ],
          "name": "stderr"
        }
      ]
    },
    {
      "cell_type": "markdown",
      "metadata": {
        "id": "OErxJnz_TJIN"
      },
      "source": [
        "Câu 2: Excavation Depth and Archaeology\n",
        "Four different excavation sites at an archeological area in New Mexico gave the following depths (cm) for significant archaeological discoveries.\n",
        "- X1 = depths at Site I\n",
        "- X2 = depths at Site II\n",
        "- X3 = depths at Site III\n",
        "- X4 = depths at Site IV\n",
        "\n",
        "Reference: Mimbres Mogollon Archaeology by Woosley and McIntyre, Univ. of New\n",
        "Mexico Press\n",
        "- Xây dựng giả thuyết:\n",
        "H0:μ1=μ2=μ3=μ4 \n",
        "\n",
        "- Giả thuyết thay thế:\n",
        "Ha: Có ít nhất một cặp có giá trị không bằng nhau"
      ]
    },
    {
      "cell_type": "code",
      "metadata": {
        "id": "D8WNJl1jPgin",
        "outputId": "9f64bb93-0b78-41f1-e024-bdb06077e4d0"
      },
      "source": [
        "df2 = pd.read_excel(\"C:\\\\Pong\\\\owan02.xls\")\n",
        "print(df2.head())\n",
        "x2_1 = df2['X1']\n",
        "x2_2 = df2['X2']\n",
        "x2_3 = df2['X3']\n",
        "x2_4 = df2['X4']\n",
        "\n",
        "#kiểm tra tính phân phối chuẩn\n",
        "print(Kolmogorov(x1_1))\n",
        "print(Kolmogorov(x1_2))\n",
        "print(Kolmogorov(x1_3))\n",
        "print(Kolmogorov(x1_4))\n",
        "\n",
        "#kiểm tra tính đồng nhất về phương sai\n",
        "print(bartlett(x1_1, x1_2, x1_3, x1_4))\n",
        "\n",
        "#kiểm định ANOVA\n",
        "\n",
        "print(anova14(x1_1, x1_2, x1_3, x1_4))"
      ],
      "execution_count": null,
      "outputs": [
        {
          "output_type": "stream",
          "text": [
            "*** No CODEPAGE record, no encoding_override: will use 'ascii'\n",
            "     X1    X2    X3    X4    X5\n",
            "0  2569  2074  2505  2838  1532\n",
            "1  2928  2885  2315  2351  2552\n",
            "2  2865  3378  2667  3001  3083\n",
            "3  3844  3906  2390  2439  2330\n",
            "4  3027  2782  3021  2199  2079\n",
            "Kiểm định Kolmogorov - X1\n",
            "Chưa có bằng chứng thống kê để bác bỏ giả thuyết H0.\n",
            "        Điều này ngụ ý rằng các mẫu hiện tại tuân theo luật phân phối chuẩn\n",
            "------------------------------\n",
            "None\n",
            "Kiểm định Kolmogorov - X2\n",
            "Có bằng chứng thống kê để bác bỏ giả thuyết H0.\n",
            "        Điều này ngụ ý rằng các mẫu hiện tại không tuân theo luật phân phối chuẩn\n",
            "------------------------------\n",
            "None\n",
            "Kiểm định Kolmogorov - X3\n",
            "Có bằng chứng thống kê để bác bỏ giả thuyết H0.\n",
            "        Điều này ngụ ý rằng các mẫu hiện tại không tuân theo luật phân phối chuẩn\n",
            "------------------------------\n",
            "None\n",
            "Kiểm định Kolmogorov - X4\n",
            "Có bằng chứng thống kê để bác bỏ giả thuyết H0.\n",
            "        Điều này ngụ ý rằng các mẫu hiện tại không tuân theo luật phân phối chuẩn\n",
            "------------------------------\n",
            "None\n",
            "~~~~~~~~~~~~~~~~~~~~~~~~~~~~~~~\n",
            "Kiểm định Bartlett:\n",
            "Statistic = 2.440153553631599 \n",
            " p value = 0.48620382137845997\n",
            "Chưa có bằng chứng thống kê để bác bỏ giả thuyết H0. \n",
            "        Điều này ngụ ý các mẫu hiện tại mang tính đồng nhất về phương sai\n",
            "~~~~~~~~~~~~~~~~~~~~~~~~~~~~~~~\n",
            "None\n",
            "Kiểm định ANOVA:\n",
            "Stat = nan \n",
            " p value = nan\n",
            "Chưa có bằng chứng thống kê để bác bỏ giả thuyết H0\n",
            "None\n"
          ],
          "name": "stdout"
        },
        {
          "output_type": "stream",
          "text": [
            "C:\\Users\\DUC-PC\\anaconda3\\lib\\site-packages\\scipy\\stats\\_distn_infrastructure.py:1847: RuntimeWarning: invalid value encountered in greater_equal\n",
            "  cond2 = (x >= np.asarray(_b)) & cond0\n",
            "C:\\Users\\DUC-PC\\anaconda3\\lib\\site-packages\\scipy\\stats\\_distn_infrastructure.py:1932: RuntimeWarning: invalid value encountered in less_equal\n",
            "  cond2 = cond0 & (x <= _a)\n"
          ],
          "name": "stderr"
        }
      ]
    },
    {
      "cell_type": "markdown",
      "metadata": {
        "id": "4DhlfAiyPgin"
      },
      "source": [
        "Câu 3: Red Dye Number 40\n",
        "S.W. Laagakos and F. Mosteller of Harvard University fed mice different doses of red dye number 40 and recorded the time of death in weeks. Results for female mice, dosage and time of death are shown in the data\n",
        "- X1 = time of death for control group\n",
        "- X2 = time of death for group with low dosage\n",
        "- X3 = time of death for group with medium dosage\n",
        "- X4 = time of death for group with high dosage\n",
        "\n",
        "Reference: Journal Natl. Cancer Inst., Vol. 66, p 197-212\n",
        "- Xây dựng giả thuyết:\n",
        "H0:μ1=μ2=μ3=μ4 \n",
        "\n",
        "- Giả thuyết thay thế:\n",
        "Ha: Có ít nhất một cặp có giá trị không bằng nhau"
      ]
    },
    {
      "cell_type": "code",
      "metadata": {
        "id": "s5LsB2_zPgin",
        "outputId": "d2a0b3d6-a6e6-4745-8dac-0007ef4da8d4"
      },
      "source": [
        "df3 = pd.read_excel(\"C:\\\\Pong\\\\owan03.xls\")\n",
        "print(df3.head())\n",
        "x3_1 = df3['X1']\n",
        "x3_2 = df3['X2']\n",
        "x3_3 = df3['X3']\n",
        "x3_4 = df3['X4']\n",
        "\n",
        "#kiểm tra tính phân phối chuẩn\n",
        "print(Kolmogorov(x3_1))\n",
        "print(Kolmogorov(x3_2))\n",
        "print(Kolmogorov(x3_3))\n",
        "print(Kolmogorov(x3_4))\n",
        "\n",
        "#kiểm tra tính đồng nhất về phương sai\n",
        "print(bartlett(x3_1, x3_2, x3_3, x3_4))\n",
        "\n",
        "#kiểm định ANOVA\n",
        "\n",
        "print(anova14(x3_1, x3_2, x3_3, x3_4))"
      ],
      "execution_count": null,
      "outputs": [
        {
          "output_type": "stream",
          "text": [
            "*** No CODEPAGE record, no encoding_override: will use 'ascii'\n",
            "   X1    X2    X3    X4\n",
            "0  70  49.0  30.0  34.0\n",
            "1  77  60.0  37.0  36.0\n",
            "2  83  63.0  56.0  48.0\n",
            "3  87  67.0  65.0  48.0\n",
            "4  92  70.0  76.0  65.0\n",
            "Kiểm định Kolmogorov - X1\n",
            "Chưa có bằng chứng thống kê để bác bỏ giả thuyết H0.\n",
            "        Điều này ngụ ý rằng các mẫu hiện tại tuân theo luật phân phối chuẩn\n",
            "------------------------------\n",
            "None\n",
            "Kiểm định Kolmogorov - X2\n",
            "Có bằng chứng thống kê để bác bỏ giả thuyết H0.\n",
            "        Điều này ngụ ý rằng các mẫu hiện tại không tuân theo luật phân phối chuẩn\n",
            "------------------------------\n",
            "None\n",
            "Kiểm định Kolmogorov - X3\n",
            "Có bằng chứng thống kê để bác bỏ giả thuyết H0.\n",
            "        Điều này ngụ ý rằng các mẫu hiện tại không tuân theo luật phân phối chuẩn\n",
            "------------------------------\n",
            "None\n",
            "Kiểm định Kolmogorov - X4\n",
            "Có bằng chứng thống kê để bác bỏ giả thuyết H0.\n",
            "        Điều này ngụ ý rằng các mẫu hiện tại không tuân theo luật phân phối chuẩn\n",
            "------------------------------\n",
            "None\n",
            "~~~~~~~~~~~~~~~~~~~~~~~~~~~~~~~\n",
            "Kiểm định Bartlett:\n",
            "Statistic = 12.022305190389242 \n",
            " p value = 0.007307141609688417\n",
            "Có bằng chứng thống kê để bác bỏ giả thuyết H0. \n",
            "         Điều này ngụ ý mẫu hiện tại không đồng nhất về phương sai\n",
            "~~~~~~~~~~~~~~~~~~~~~~~~~~~~~~~\n",
            "None\n",
            "Kiểm định ANOVA:\n",
            "Stat = nan \n",
            " p value = nan\n",
            "Chưa có bằng chứng thống kê để bác bỏ giả thuyết H0\n",
            "None\n"
          ],
          "name": "stdout"
        },
        {
          "output_type": "stream",
          "text": [
            "C:\\Users\\DUC-PC\\anaconda3\\lib\\site-packages\\scipy\\stats\\_distn_infrastructure.py:1847: RuntimeWarning: invalid value encountered in greater_equal\n",
            "  cond2 = (x >= np.asarray(_b)) & cond0\n",
            "C:\\Users\\DUC-PC\\anaconda3\\lib\\site-packages\\scipy\\stats\\_distn_infrastructure.py:1932: RuntimeWarning: invalid value encountered in less_equal\n",
            "  cond2 = cond0 & (x <= _a)\n"
          ],
          "name": "stderr"
        }
      ]
    },
    {
      "cell_type": "markdown",
      "metadata": {
        "id": "5kCDOgrXPgio"
      },
      "source": [
        "Câu 4: Business Startup Costs\n",
        "The following data represent business startup costs (thousands of dollars) for shops.\n",
        "- X1 = startup costs for pizza\n",
        "- X2 = startup costs for baker/donuts\n",
        "- X3 = startup costs for shoe stores\n",
        "- X4 = startup costs for gift shops\n",
        "- X5 = startup costs for pet stores\n",
        "\n",
        "Reference: Business Opportunities Handbook\n",
        "- Xây dựng giả thuyết:\n",
        "H0:μ1=μ2=μ3=μ4=μ5 \n",
        "\n",
        "- Giả thuyết thay thế:\n",
        "Ha: Có ít nhất một cặp có giá trị không bằng nhau"
      ]
    },
    {
      "cell_type": "code",
      "metadata": {
        "scrolled": true,
        "id": "8EdYRL-1Pgio",
        "outputId": "d7b46d0d-54bc-4772-c816-47116d34b7f0"
      },
      "source": [
        "df4 = pd.read_excel(\"C:\\\\Pong\\\\owan04.xls\")\n",
        "print(df4.head())\n",
        "x4_1 = df4['X1']\n",
        "x4_2 = df4['X2']\n",
        "x4_3 = df4['X3']\n",
        "x4_4 = df4['X4']\n",
        "x4_5 = df4['X5']\n",
        "\n",
        "#kiểm tra tính phân phối chuẩn\n",
        "print(Shapiro(x4_1))\n",
        "print(Shapiro(x4_2))\n",
        "print(Shapiro(x4_3))\n",
        "print(Shapiro(x4_4))\n",
        "print(Shapiro(x4_5))\n",
        "\n",
        "#kiểm tra tính đồng nhất về phương sai\n",
        "print(levene(x4_1, x4_2, x4_3, x4_4, x4_5))\n",
        "\n",
        "#kiểm định ANOVA\n",
        "\n",
        "print(anova15(x4_1, x4_2, x4_3, x4_4, x4_5))"
      ],
      "execution_count": null,
      "outputs": [
        {
          "output_type": "stream",
          "text": [
            "*** No CODEPAGE record, no encoding_override: will use 'ascii'\n",
            "      X1     X2    X3     X4  X5\n",
            "0   80.0  150.0  48.0  100.0  25\n",
            "1  125.0   40.0  35.0   96.0  80\n",
            "2   35.0  120.0  95.0   35.0  30\n",
            "3   58.0   75.0  45.0   99.0  35\n",
            "4  110.0  160.0  75.0   75.0  30\n",
            "Kiểm định Shapiro - X1\n",
            "Chưa có bằng chứng thống kê để bác bỏ giả thuyết H0.\n",
            "        Điều này ngụ ý rằng các mẫu hiện tại tuân theo luật phân phối chuẩn\n",
            "------------------------------\n",
            "None\n",
            "Kiểm định Shapiro - X2\n",
            "Chưa có bằng chứng thống kê để bác bỏ giả thuyết H0.\n",
            "        Điều này ngụ ý rằng các mẫu hiện tại tuân theo luật phân phối chuẩn\n",
            "------------------------------\n",
            "None\n",
            "Kiểm định Shapiro - X3\n",
            "Chưa có bằng chứng thống kê để bác bỏ giả thuyết H0.\n",
            "        Điều này ngụ ý rằng các mẫu hiện tại tuân theo luật phân phối chuẩn\n",
            "------------------------------\n",
            "None\n",
            "Kiểm định Shapiro - X4\n",
            "Chưa có bằng chứng thống kê để bác bỏ giả thuyết H0.\n",
            "        Điều này ngụ ý rằng các mẫu hiện tại tuân theo luật phân phối chuẩn\n",
            "------------------------------\n",
            "None\n",
            "Kiểm định Shapiro - X5\n",
            "Chưa có bằng chứng thống kê để bác bỏ giả thuyết H0.\n",
            "        Điều này ngụ ý rằng các mẫu hiện tại tuân theo luật phân phối chuẩn\n",
            "------------------------------\n",
            "None\n",
            "~~~~~~~~~~~~~~~~~~~~~~~~~~~~~~~\n",
            "Kiểm định Levene:\n",
            "Có bằng chứng thống kê để bác bỏ giả thuyết H0. \n",
            "        Điều này ngụ ý mẫu hiện tại không đồng nhất về phương sai\n",
            "~~~~~~~~~~~~~~~~~~~~~~~~~~~~~~~\n",
            "None\n",
            "Kiểm định ANOVA:\n",
            "Stat = nan \n",
            " p value = nan\n",
            "Chưa có bằng chứng thống kê để bác bỏ giả thuyết H0\n",
            "None\n"
          ],
          "name": "stdout"
        },
        {
          "output_type": "stream",
          "text": [
            "C:\\Users\\DUC-PC\\anaconda3\\lib\\site-packages\\scipy\\stats\\_distn_infrastructure.py:1932: RuntimeWarning: invalid value encountered in less_equal\n",
            "  cond2 = cond0 & (x <= _a)\n"
          ],
          "name": "stderr"
        }
      ]
    },
    {
      "cell_type": "markdown",
      "metadata": {
        "id": "ltzYE1eGPgip"
      },
      "source": [
        "Câu 5: Weights of Football Players\n",
        "The following data represent weights (pounds) of a random sample of professional football players on the following teams.\n",
        "- X1 = weights of players for the Dallas Cowboys\n",
        "- X2 = weights of players for the Green Bay Packers\n",
        "- X3 = weights of players for the Denver Broncos\n",
        "- X4 = weights of players for the Miami Dolphins\n",
        "- X5 = weights of players for the San Francisco Forty Niners\n",
        "\n",
        "Reference: The Sports Encyclopedia Pro Football\n",
        "- Xây dựng giả thuyết:\n",
        "H0:μ1=μ2=μ3=μ4=μ5 \n",
        "\n",
        "- Giả thuyết thay thế:\n",
        "Ha: Có ít nhất một cặp có giá trị không bằng nhau"
      ]
    },
    {
      "cell_type": "code",
      "metadata": {
        "id": "7c0eAMsYPgip",
        "outputId": "bbaabc8b-805d-4391-d405-0a7c1a603bea"
      },
      "source": [
        "df5 = pd.read_excel(\"C:\\\\Pong\\\\owan05.xls\")\n",
        "print(df5)\n",
        "x5_1 = df5['X1']\n",
        "x5_2 = df5['X2']\n",
        "x5_3 = df5['X3']\n",
        "x5_4 = df5['X4']\n",
        "x5_5 = df5['X5']\n",
        "\n",
        "#kiểm tra tính phân phối chuẩn\n",
        "print(Shapiro(x5_1))\n",
        "print(Shapiro(x5_2))\n",
        "print(Shapiro(x5_3))\n",
        "print(Shapiro(x5_4))\n",
        "print(Shapiro(x5_5))\n",
        "\n",
        "#kiểm tra tính đồng nhất về phương sai\n",
        "print(levene(x5_1, x5_2, x5_3, x5_4, x5_5))\n",
        "\n",
        "#kiểm định ANOVA\n",
        "\n",
        "print(anova15(x5_1, x5_2, x5_3, x5_4, x5_5))"
      ],
      "execution_count": null,
      "outputs": [
        {
          "output_type": "stream",
          "text": [
            "*** No CODEPAGE record, no encoding_override: will use 'ascii'\n",
            "     X1   X2   X3   X4   X5\n",
            "0   250  260  270  260  247\n",
            "1   255  271  250  255  249\n",
            "2   255  258  281  265  255\n",
            "3   264  263  273  257  247\n",
            "4   250  267  257  268  244\n",
            "5   265  254  264  263  245\n",
            "6   245  255  233  247  249\n",
            "7   252  250  254  253  260\n",
            "8   266  248  268  251  217\n",
            "9   246  240  252  252  208\n",
            "10  251  254  256  266  228\n",
            "11  263  275  265  264  253\n",
            "12  248  270  252  210  249\n",
            "13  228  225  256  236  223\n",
            "14  221  222  235  225  221\n",
            "15  223  230  216  230  228\n",
            "16  220  225  241  232  271\n",
            "Kiểm định Shapiro - X1\n",
            "Có bằng chứng thống kê để bác bỏ giả thuyết H0.\n",
            "        Điều này ngụ ý rằng các mẫu hiện tại không tuân theo luật phân phối chuẩn\n",
            "------------------------------\n",
            "None\n",
            "Kiểm định Shapiro - X2\n",
            "Chưa có bằng chứng thống kê để bác bỏ giả thuyết H0.\n",
            "        Điều này ngụ ý rằng các mẫu hiện tại tuân theo luật phân phối chuẩn\n",
            "------------------------------\n",
            "None\n",
            "Kiểm định Shapiro - X3\n",
            "Chưa có bằng chứng thống kê để bác bỏ giả thuyết H0.\n",
            "        Điều này ngụ ý rằng các mẫu hiện tại tuân theo luật phân phối chuẩn\n",
            "------------------------------\n",
            "None\n",
            "Kiểm định Shapiro - X4\n",
            "Chưa có bằng chứng thống kê để bác bỏ giả thuyết H0.\n",
            "        Điều này ngụ ý rằng các mẫu hiện tại tuân theo luật phân phối chuẩn\n",
            "------------------------------\n",
            "None\n",
            "Kiểm định Shapiro - X5\n",
            "Chưa có bằng chứng thống kê để bác bỏ giả thuyết H0.\n",
            "        Điều này ngụ ý rằng các mẫu hiện tại tuân theo luật phân phối chuẩn\n",
            "------------------------------\n",
            "None\n",
            "~~~~~~~~~~~~~~~~~~~~~~~~~~~~~~~\n",
            "Kiểm định Levene:\n",
            "Chưa có bằng chứng thống kê để bác bỏ giả thuyết H0.\n",
            "        Điều này ngụ ý các mẫu hiện tại mang tính đồng nhất về phương sai\n",
            "~~~~~~~~~~~~~~~~~~~~~~~~~~~~~~~\n",
            "None\n",
            "Kiểm định ANOVA:\n",
            "Stat = 1.5750491966351665 \n",
            " p value = 0.18898555405394352\n",
            "Chưa có bằng chứng thống kê để bác bỏ giả thuyết H0\n",
            "None\n"
          ],
          "name": "stdout"
        }
      ]
    }
  ]
}