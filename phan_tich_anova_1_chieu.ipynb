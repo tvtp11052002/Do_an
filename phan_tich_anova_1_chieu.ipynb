{
  "nbformat": 4,
  "nbformat_minor": 0,
  "metadata": {
    "kernelspec": {
      "display_name": "Python 3",
      "language": "python",
      "name": "python3"
    },
    "language_info": {
      "codemirror_mode": {
        "name": "ipython",
        "version": 3
      },
      "file_extension": ".py",
      "mimetype": "text/x-python",
      "name": "python",
      "nbconvert_exporter": "python",
      "pygments_lexer": "ipython3",
      "version": "3.7.3"
    },
    "colab": {
      "name": "bai-tap-phan-tich-anova-1-chieu.ipynb",
      "provenance": [],
      "collapsed_sections": [],
      "include_colab_link": true
    }
  },
  "cells": [
    {
      "cell_type": "markdown",
      "metadata": {
        "id": "view-in-github",
        "colab_type": "text"
      },
      "source": [
        "<a href=\"https://colab.research.google.com/github/tvtp11052002/Do_an/blob/main/phan_tich_anova_1_chieu.ipynb\" target=\"_parent\"><img src=\"https://colab.research.google.com/assets/colab-badge.svg\" alt=\"Open In Colab\"/></a>"
      ]
    },
    {
      "cell_type": "markdown",
      "metadata": {
        "id": "YTZ_vjvv_qbC"
      },
      "source": [
        "Hãy sử dụng các tập dữ liệu sau và tiến hành phân tích ANOVA 1 chiều\n",
        "\n",
        "- [Excavation Depth and Archaeology](https://college.cengage.com/mathematics/brase/understandable_statistics/7e/students/datasets/owan/frames/owan01.html)\n",
        "- [Apple Orchard Experiment](https://college.cengage.com/mathematics/brase/understandable_statistics/7e/students/datasets/owan/frames/owan02.html)\n",
        "- [Red Dye Number 40](https://college.cengage.com/mathematics/brase/understandable_statistics/7e/students/datasets/owan/frames/owan03.html)\n",
        "- [Business Startup Costs](https://college.cengage.com/mathematics/brase/understandable_statistics/7e/students/datasets/owan/frames/owan04.html)\n",
        "- [Weights of Football Players](https://college.cengage.com/mathematics/brase/understandable_statistics/7e/students/datasets/owan/frames/owan05.html)"
      ]
    },
    {
      "cell_type": "code",
      "metadata": {
        "id": "lSi0OKZR_qbM"
      },
      "source": [
        "#import thư viện\n",
        "import numpy as np\n",
        "import pandas as pd\n",
        "from scipy import stats\n",
        "import xlrd"
      ],
      "execution_count": null,
      "outputs": []
    },
    {
      "cell_type": "code",
      "metadata": {
        "id": "BY3BXJxB_qbN"
      },
      "source": [
        "#Hàm kiểm tra tính phân phối chuẩn dùng Kolmogorov từ X1-X4\n",
        "def Kolmogorov(data):\n",
        "    print(\"Kiểm định Kolmogorov -\", data.name)\n",
        "    k, p = stats.kstest(rvs=data, cdf='norm', args=(np.mean(data), np.std(data)))\n",
        "    if p > 0.05:\n",
        "        print('''Chưa có bằng chứng thống kê để bác bỏ giả thuyết H0.\n",
        "        Điều này ngụ ý rằng các mẫu hiện tại tuân theo luật phân phối chuẩn''')\n",
        "    else:\n",
        "        print('''Có bằng chứng thống kê để bác bỏ giả thuyết H0.\n",
        "        Điều này ngụ ý rằng các mẫu hiện tại không tuân theo luật phân phối chuẩn''')\n",
        "    print(\"------------------------------\")\n",
        "    \n",
        "#Dùng Shapiro từ X1-X5\n",
        "def Shapiro(data):\n",
        "    print(\"Kiểm định Shapiro -\", data.name)\n",
        "    stat, pvalue = stats.shapiro(data)\n",
        "    if pvalue > 0.05:\n",
        "        print('''Chưa có bằng chứng thống kê để bác bỏ giả thuyết H0.\n",
        "        Điều này ngụ ý rằng các mẫu hiện tại tuân theo luật phân phối chuẩn''')\n",
        "    else:\n",
        "        print('''Có bằng chứng thống kê để bác bỏ giả thuyết H0.\n",
        "        Điều này ngụ ý rằng các mẫu hiện tại không tuân theo luật phân phối chuẩn''')\n",
        "    print(\"------------------------------\")"
      ],
      "execution_count": null,
      "outputs": []
    },
    {
      "cell_type": "code",
      "metadata": {
        "id": "DocxlQryAVEI"
      },
      "source": [
        "#Hàm kiểm tra tính đồng nhất về phương sai dùng Bartlett từ X1-X4\n",
        "def bartlett(a, b, c, d): \n",
        "    print(\"~~~~~~~~~~~~~~~~~~~~~~~~~~~~~~~\")\n",
        "    print(\"Kiểm định Bartlett:\")\n",
        "    stat, pvalue = stats.bartlett(a, b, c, d)\n",
        "    print(\"Statistic =\", stat, \"\\n\",\n",
        "          \"p value =\", pvalue)\n",
        "    if pvalue > 0.05:\n",
        "        print('''Chưa có bằng chứng thống kê để bác bỏ giả thuyết H0. \n",
        "        Điều này ngụ ý các mẫu hiện tại mang tính đồng nhất về phương sai''')\n",
        "    else:\n",
        "        print('''Có bằng chứng thống kê để bác bỏ giả thuyết H0. \n",
        "         Điều này ngụ ý mẫu hiện tại không đồng nhất về phương sai''')\n",
        "    print(\"~~~~~~~~~~~~~~~~~~~~~~~~~~~~~~~\")\n",
        "\n",
        "    \n",
        "#Dùng Levene từ X1-X5\n",
        "def levene(a, b, c, d, e):\n",
        "    print(\"~~~~~~~~~~~~~~~~~~~~~~~~~~~~~~~\")\n",
        "    print(\"Kiểm định Levene:\")\n",
        "    stat, pvalue = stats.levene(a, b, c, d, e)\n",
        "    if pvalue > 0.05:\n",
        "        print('''Chưa có bằng chứng thống kê để bác bỏ giả thuyết H0.\n",
        "        Điều này ngụ ý các mẫu hiện tại mang tính đồng nhất về phương sai''')\n",
        "    else:\n",
        "        print('''Có bằng chứng thống kê để bác bỏ giả thuyết H0. \n",
        "        Điều này ngụ ý mẫu hiện tại không đồng nhất về phương sai''')\n",
        "    print(\"~~~~~~~~~~~~~~~~~~~~~~~~~~~~~~~\")"
      ],
      "execution_count": null,
      "outputs": []
    },
    {
      "cell_type": "code",
      "metadata": {
        "id": "zgBbs7P4AYYD"
      },
      "source": [
        "#Hàm kiểm định ANOVA từ X1-X4\n",
        "def anova14(a, b, c, d):\n",
        "    df = (a, b, c, d)\n",
        "    print(\"Kiểm định ANOVA:\")\n",
        "    stat, pvalue = stats.f_oneway(a, b, c, d)\n",
        "    print(\"Stat =\", stat, \"\\n\", \"p value =\", pvalue)\n",
        "    if pvalue < 0.05:\n",
        "        print(\"Có bằng chứng thống kê để bác bỏ giả thuyết H0\")\n",
        "    else:\n",
        "        print(\"Chưa có bằng chứng thống kê để bác bỏ giả thuyết H0\")\n",
        "        \n",
        "#Hàm kiểm định ANOVA từ X1-X5\n",
        "def anova15(a, b, c, d, e):\n",
        "    df = (a, b, c, d, e)\n",
        "    print(\"Kiểm định ANOVA:\")\n",
        "    stat, pvalue = stats.f_oneway(a, b, c, d, e)\n",
        "    print(\"Stat =\", stat, \"\\n\", \"p value =\", pvalue)\n",
        "    if pvalue < 0.05:\n",
        "        print(\"Có bằng chứng thống kê để bác bỏ giả thuyết H0\")\n",
        "    else:\n",
        "        print(\"Chưa có bằng chứng thống kê để bác bỏ giả thuyết H0\")"
      ],
      "execution_count": null,
      "outputs": []
    },
    {
      "cell_type": "markdown",
      "metadata": {
        "id": "TX6bVvo_Aq4h"
      },
      "source": [
        "Câu 1: Excavation Depth and Archaeology\n",
        "\n",
        "Four different excavation sites at an archeological area in New Mexico gave the following depths (cm) for significant archaeological discoveries.\n",
        "\n",
        "X1 = depths at Site I\n",
        "X2 = depths at Site II\n",
        "X3 = depths at Site III\n",
        "X4 = depths at Site IV\n",
        "Reference: Mimbres Mogollon Archaeology by Woosley and McIntyre, Univ. of New Mexico Press"
      ]
    },
    {
      "cell_type": "code",
      "metadata": {
        "id": "DzpYhK2xAwxU"
      },
      "source": [
        "df1 = pd.read_excel(\"D:\\\\TLBuu\\\\owan01.xls\")\n",
        "print(df1.head())\n",
        "x1_1 = df1['X1']\n",
        "x1_2 = df1['X2']\n",
        "x1_3 = df1['X3']\n",
        "x1_4 = df1['X4']\n",
        "\n",
        "#kiểm tra tính phân phối chuẩn\n",
        "print(Kolmogorov(x1_1))\n",
        "print(Kolmogorov(x1_2))\n",
        "print(Kolmogorov(x1_3))\n",
        "print(Kolmogorov(x1_4))\n",
        "\n",
        "#kiểm tra tính đồng nhất về phương sai\n",
        "print(bartlett(x1_1, x1_2, x1_3, x1_4))\n",
        "\n",
        "#kiểm định ANOVA\n",
        "\n",
        "print(anova14(x1_1, x1_2, x1_3, x1_4))"
      ],
      "execution_count": null,
      "outputs": []
    },
    {
      "cell_type": "markdown",
      "metadata": {
        "id": "hpst1nUkBHim"
      },
      "source": [
        "Câu 2: Excavation Depth and Archaeology Four different excavation sites at an archeological area in New Mexico gave the following depths (cm) for significant archaeological discoveries.\n",
        "\n",
        "X1 = depths at Site I\n",
        "X2 = depths at Site II\n",
        "X3 = depths at Site III\n",
        "X4 = depths at Site IV Reference: Mimbres Mogollon Archaeology by Woosley and McIntyre, Univ. of New Mexico Press"
      ]
    },
    {
      "cell_type": "code",
      "metadata": {
        "id": "vAsE5XR5A-n4"
      },
      "source": [
        "df2 = pd.read_excel(\"D:\\\\TLBuu\\\\owan02.xls\")\n",
        "print(df2.head())\n",
        "x2_1 = df2['X1']\n",
        "x2_2 = df2['X2']\n",
        "x2_3 = df2['X3']\n",
        "x2_4 = df2['X4']\n",
        "\n",
        "#kiểm tra tính phân phối chuẩn\n",
        "print(Kolmogorov(x1_1))\n",
        "print(Kolmogorov(x1_2))\n",
        "print(Kolmogorov(x1_3))\n",
        "print(Kolmogorov(x1_4))\n",
        "\n",
        "#kiểm tra tính đồng nhất về phương sai\n",
        "print(bartlett(x1_1, x1_2, x1_3, x1_4))\n",
        "\n",
        "#kiểm định ANOVA\n",
        "\n",
        "print(anova14(x1_1, x1_2, x1_3, x1_4))"
      ],
      "execution_count": null,
      "outputs": []
    },
    {
      "cell_type": "markdown",
      "metadata": {
        "id": "7ku-0esaBIex"
      },
      "source": [
        "Câu 3: Red Dye Number 40 S.W. Laagakos and F. Mosteller of Harvard University fed mice different doses of red dye number 40 and recorded the time of death in weeks. Results for female mice, dosage and time of death are shown in the data\n",
        "\n",
        "X1 = time of death for control group\n",
        "X2 = time of death for group with low dosage\n",
        "X3 = time of death for group with medium dosage\n",
        "X4 = time of death for group with high dosage Reference: Journal Natl. Cancer Inst., Vol. 66, p 197-212"
      ]
    },
    {
      "cell_type": "code",
      "metadata": {
        "id": "i3xmHzngBNKF"
      },
      "source": [
        "df3 = pd.read_excel(\"D:\\\\TLBuu\\\\owan03.xls\")\n",
        "print(df3.head())\n",
        "x3_1 = df3['X1']\n",
        "x3_2 = df3['X2']\n",
        "x3_3 = df3['X3']\n",
        "x3_4 = df3['X4']\n",
        "\n",
        "#kiểm tra tính phân phối chuẩn\n",
        "print(Kolmogorov(x3_1))\n",
        "print(Kolmogorov(x3_2))\n",
        "print(Kolmogorov(x3_3))\n",
        "print(Kolmogorov(x3_4))\n",
        "\n",
        "#kiểm tra tính đồng nhất về phương sai\n",
        "print(bartlett(x3_1, x3_2, x3_3, x3_4))\n",
        "\n",
        "#kiểm định ANOVA\n",
        "\n",
        "print(anova14(x3_1, x3_2, x3_3, x3_4))"
      ],
      "execution_count": null,
      "outputs": []
    },
    {
      "cell_type": "markdown",
      "metadata": {
        "id": "w-5yB-AMBP0M"
      },
      "source": [
        "Câu 4: Business Startup Costs The following data represent business startup costs (thousands of dollars) for shops.\n",
        "\n",
        "X1 = startup costs for pizza\n",
        "X2 = startup costs for baker/donuts\n",
        "X3 = startup costs for shoe stores\n",
        "X4 = startup costs for gift shops\n",
        "X5 = startup costs for pet stores Reference: Business Opportunities Handbook"
      ]
    },
    {
      "cell_type": "code",
      "metadata": {
        "id": "brKTgnFiBVmo"
      },
      "source": [
        "df4 = pd.read_excel(\"D:\\\\TLBuu\\\\owan04.xls\")\n",
        "print(df4.head())\n",
        "x4_1 = df4['X1']\n",
        "x4_2 = df4['X2']\n",
        "x4_3 = df4['X3']\n",
        "x4_4 = df4['X4']\n",
        "x4_5 = df4['X5']\n",
        "\n",
        "#kiểm tra tính phân phối chuẩn\n",
        "print(Shapiro(x4_1))\n",
        "print(Shapiro(x4_2))\n",
        "print(Shapiro(x4_3))\n",
        "print(Shapiro(x4_4))\n",
        "print(Shapiro(x4_5))\n",
        "\n",
        "#kiểm tra tính đồng nhất về phương sai\n",
        "print(levene(x4_1, x4_2, x4_3, x4_4, x4_5))\n",
        "\n",
        "#kiểm định ANOVA\n",
        "\n",
        "print(anova15(x4_1, x4_2, x4_3, x4_4, x4_5))"
      ],
      "execution_count": null,
      "outputs": []
    },
    {
      "cell_type": "markdown",
      "metadata": {
        "id": "I3SxB2rJBZxJ"
      },
      "source": [
        "Câu 5: Weights of Football Players The following data represent weights (pounds) of a random sample of professional football players on the following teams.\n",
        "\n",
        "X1 = weights of players for the Dallas Cowboys\n",
        "X2 = weights of players for the Green Bay Packers\n",
        "X3 = weights of players for the Denver Broncos\n",
        "X4 = weights of players for the Miami Dolphins\n",
        "X5 = weights of players for the San Francisco Forty Niners Reference: The Sports Encyclopedia Pro Football"
      ]
    },
    {
      "cell_type": "code",
      "metadata": {
        "id": "6MYu_D06Bcx_"
      },
      "source": [
        "df5 = pd.read_excel(\"D:\\\\TLBuu\\\\owan05.xls\")\n",
        "print(df5)\n",
        "x5_1 = df5['X1']\n",
        "x5_2 = df5['X2']\n",
        "x5_3 = df5['X3']\n",
        "x5_4 = df5['X4']\n",
        "x5_5 = df5['X5']\n",
        "\n",
        "#kiểm tra tính phân phối chuẩn\n",
        "print(Shapiro(x5_1))\n",
        "print(Shapiro(x5_2))\n",
        "print(Shapiro(x5_3))\n",
        "print(Shapiro(x5_4))\n",
        "print(Shapiro(x5_5))\n",
        "\n",
        "#kiểm tra tính đồng nhất về phương sai\n",
        "print(levene(x5_1, x5_2, x5_3, x5_4, x5_5))\n",
        "\n",
        "#kiểm định ANOVA\n",
        "\n",
        "print(anova15(x5_1, x5_2, x5_3, x5_4, x5_5))"
      ],
      "execution_count": null,
      "outputs": []
    }
  ]
}