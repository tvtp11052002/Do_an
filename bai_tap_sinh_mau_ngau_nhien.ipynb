{
  "nbformat": 4,
  "nbformat_minor": 0,
  "metadata": {
    "kernelspec": {
      "display_name": "Python 3",
      "language": "python",
      "name": "python3"
    },
    "language_info": {
      "codemirror_mode": {
        "name": "ipython",
        "version": 3
      },
      "file_extension": ".py",
      "mimetype": "text/x-python",
      "name": "python",
      "nbconvert_exporter": "python",
      "pygments_lexer": "ipython3",
      "version": "3.7.3"
    },
    "colab": {
      "name": "bai-tap-sinh-mau-ngau-nhien.ipynb",
      "provenance": [],
      "include_colab_link": true
    }
  },
  "cells": [
    {
      "cell_type": "markdown",
      "metadata": {
        "id": "view-in-github",
        "colab_type": "text"
      },
      "source": [
        "<a href=\"https://colab.research.google.com/github/tvtp11052002/Do_an/blob/main/bai_tap_sinh_mau_ngau_nhien.ipynb\" target=\"_parent\"><img src=\"https://colab.research.google.com/assets/colab-badge.svg\" alt=\"Open In Colab\"/></a>"
      ]
    },
    {
      "cell_type": "code",
      "metadata": {
        "id": "FIKpHGMRXMeX"
      },
      "source": [
        "import numpy as np"
      ],
      "execution_count": 1,
      "outputs": []
    },
    {
      "cell_type": "markdown",
      "metadata": {
        "id": "nv22lz1QW5Ye"
      },
      "source": [
        "Sử dụng thư viện Numpy\n",
        "\n",
        "1. Sinh mẫu ngẫu nhiên bằng hàm arange trong khoảng [-15, 27] với khoảng cách là 0.7 và in kết quả ra màn hình"
      ]
    },
    {
      "cell_type": "code",
      "metadata": {
        "id": "onVqtGBjW5Yl",
        "outputId": "dcb098e9-f76b-47dd-cbf9-29d20fdda11f",
        "colab": {
          "base_uri": "https://localhost:8080/"
        }
      },
      "source": [
        "sample = np.arange(-15,27,0.7)\n",
        "print(sample)"
      ],
      "execution_count": 2,
      "outputs": [
        {
          "output_type": "stream",
          "text": [
            "[-15.  -14.3 -13.6 -12.9 -12.2 -11.5 -10.8 -10.1  -9.4  -8.7  -8.   -7.3\n",
            "  -6.6  -5.9  -5.2  -4.5  -3.8  -3.1  -2.4  -1.7  -1.   -0.3   0.4   1.1\n",
            "   1.8   2.5   3.2   3.9   4.6   5.3   6.    6.7   7.4   8.1   8.8   9.5\n",
            "  10.2  10.9  11.6  12.3  13.   13.7  14.4  15.1  15.8  16.5  17.2  17.9\n",
            "  18.6  19.3  20.   20.7  21.4  22.1  22.8  23.5  24.2  24.9  25.6  26.3\n",
            "  27. ]\n"
          ],
          "name": "stdout"
        }
      ]
    },
    {
      "cell_type": "markdown",
      "metadata": {
        "id": "1-q74F-fW5Ym"
      },
      "source": [
        "2. Sinh mẫu ngẫu nhiên theo phân phối chuẩn với mean = 2.7 std = 1.2 và size = 40\n",
        "In kết quả ra màn hình"
      ]
    },
    {
      "cell_type": "code",
      "metadata": {
        "id": "arAwGfOeW5Ym",
        "outputId": "e8836f48-c23c-4acb-cda0-b4889e33b039",
        "colab": {
          "base_uri": "https://localhost:8080/"
        }
      },
      "source": [
        "sample_1 = np.random.normal(loc= 2.7, scale=1.2, size=40 )\n",
        "print(sample_1)"
      ],
      "execution_count": 6,
      "outputs": [
        {
          "output_type": "stream",
          "text": [
            "[2.31446107 0.90912743 3.61305752 1.02492592 2.77519781 1.3617586\n",
            " 3.90485009 3.50605201 2.60046558 1.77998605 2.92267259 1.2625893\n",
            " 1.37426077 3.23014333 3.78684139 3.25767167 3.58817025 1.60979631\n",
            " 1.50507981 3.79878598 2.94754528 3.83946125 2.93143042 1.5784886\n",
            " 3.68522509 2.84498798 1.41068926 0.65837423 2.03970892 1.2947203\n",
            " 3.17947286 0.32586837 4.21221827 2.53315711 2.79583413 1.82334344\n",
            " 2.78090134 3.86044772 4.56308698 3.5394825 ]\n"
          ],
          "name": "stdout"
        }
      ]
    },
    {
      "cell_type": "markdown",
      "metadata": {
        "id": "14xNTnx0W5Yn"
      },
      "source": [
        "3. Sinh mẫu ngẫu nhiên từ vector ['Viet Nam', 'Britain', 'France', 'Russia', 'Singapore'] \n",
        "\n",
        "với kích thước là 17 theo phân phối chuẩn"
      ]
    },
    {
      "cell_type": "code",
      "metadata": {
        "id": "PN_YSifZW5Yn",
        "outputId": "5b870471-bb9a-4d7f-9fa4-7f7d913c2243",
        "colab": {
          "base_uri": "https://localhost:8080/"
        }
      },
      "source": [
        "sample_2= np.random.choice(['Viet Nam', 'Britain', 'France', 'Russia', 'Singapore'],17)\n",
        "print(sample_2)"
      ],
      "execution_count": 4,
      "outputs": [
        {
          "output_type": "stream",
          "text": [
            "['Viet Nam' 'Viet Nam' 'Britain' 'Viet Nam' 'France' 'Viet Nam' 'France'\n",
            " 'Viet Nam' 'Viet Nam' 'Britain' 'Singapore' 'Viet Nam' 'Singapore'\n",
            " 'Viet Nam' 'Viet Nam' 'Singapore' 'France']\n"
          ],
          "name": "stdout"
        }
      ]
    },
    {
      "cell_type": "markdown",
      "metadata": {
        "id": "oS-reUvIW5Yn"
      },
      "source": [
        "4. Sinh mẫu ngẫu nhiên ở câu 3 nhưng không theo phân phối chuẩn mà theo 1 vector đặc tả giá trị xác suất do bạn chọn"
      ]
    },
    {
      "cell_type": "code",
      "metadata": {
        "id": "zZJ5PO4ZW5Yo",
        "outputId": "54f71f2b-19f6-4521-9adc-29457a993a59",
        "colab": {
          "base_uri": "https://localhost:8080/"
        }
      },
      "source": [
        "sample_3 = np.random.choice(['Viet Nam', 'Britain', 'France', 'Russia', 'Singapore'], 5, p = [0.1,0.3,0.05,0.35,0.2])\n",
        "print(sample_3)"
      ],
      "execution_count": 5,
      "outputs": [
        {
          "output_type": "stream",
          "text": [
            "['Singapore' 'Russia' 'Britain' 'Russia' 'Singapore']\n"
          ],
          "name": "stdout"
        }
      ]
    },
    {
      "cell_type": "markdown",
      "metadata": {
        "id": "WcCGLO6IW5Yo"
      },
      "source": [
        "Sử dụng thư việc scipy.stats để sinh mẫu ngẫu nhiên\n",
        "\n",
        "1. Sinh mẫu ngẫu nhiên theo phân phối chuẩn với mean = 12.7, std = 2.6 và size = 30. In kết quả ra màn hình"
      ]
    },
    {
      "cell_type": "code",
      "metadata": {
        "id": "tcNrlJ9xW5Yo",
        "outputId": "fe074e5b-aa5d-4366-fb8f-a63aa0d45a09",
        "colab": {
          "base_uri": "https://localhost:8080/"
        }
      },
      "source": [
        "from scipy import stats\n",
        "\n",
        "sample_4= stats.norm.rvs(loc=12.7, scale= 2.6, size= 30)\n",
        "print(sample_4)"
      ],
      "execution_count": 7,
      "outputs": [
        {
          "output_type": "stream",
          "text": [
            "[15.31105644  8.8493651   9.50823232 14.09804412  9.59212156 12.53937834\n",
            "  6.93483145  6.83530012 18.71096396 13.22245305  9.64495198  9.91396213\n",
            "  8.53762977 14.4957495  16.07832062 13.680833   13.44060449 10.34506867\n",
            " 10.53971362 17.39163216 11.02779475 12.35296803 11.48069018 11.14368049\n",
            " 10.35908732 12.64033487 14.41062059 11.84363148 11.80250611 15.85762139]\n"
          ],
          "name": "stdout"
        }
      ]
    },
    {
      "cell_type": "markdown",
      "metadata": {
        "id": "6FuISuTqW5Yo"
      },
      "source": [
        "2. Hãy sinh một mẫu ngẫu nhiên theo phân phối Poisson"
      ]
    },
    {
      "cell_type": "code",
      "metadata": {
        "id": "d7yZdU_QW5Yp",
        "outputId": "23aee890-248a-4e17-b0fe-d9d64dbfd564",
        "colab": {
          "base_uri": "https://localhost:8080/"
        }
      },
      "source": [
        "sample_5=stats.poisson.rvs(loc= 18,\n",
        "                        mu= 30,\n",
        "                        size= 1000)\n",
        "print(sample_5[:10]) #in 10 giá trị đầu"
      ],
      "execution_count": 18,
      "outputs": [
        {
          "output_type": "stream",
          "text": [
            "[55 46 57 46 54 55 53 44 46 58]\n"
          ],
          "name": "stdout"
        }
      ]
    },
    {
      "cell_type": "code",
      "metadata": {
        "id": "H14JWwaOW5Yp"
      },
      "source": [
        ""
      ],
      "execution_count": null,
      "outputs": []
    }
  ]
}